{
 "cells": [
  {
   "cell_type": "code",
   "execution_count": null,
   "metadata": {},
   "outputs": [],
   "source": [
    "import torch\n",
    "import os\n",
    "from torchvision import transforms\n",
    "from torch.optim import lr_scheduler\n",
    "import torch.optim as optim\n",
    "from data.triplet_loader import TripletFileLoader\n",
    "from data.quadlet_loader import QuadletFileLoader\n",
    "from model import TripletNet, ComplexIrisNet, FeatNet, QuadletNet\n",
    "from model import ExtendedTripletLoss, TripletLoss, ExtendedQuadletLoss\n",
    "import numpy as np\n",
    "import argparse"
   ]
  },
  {
   "cell_type": "code",
   "execution_count": null,
   "metadata": {},
   "outputs": [],
   "source": [
    "trainset = QuadletFileLoader('/home/ra1/Project/Data', '/home/ra1/Project/Data', 'Train_Test_List/train_polyu_1s.txt')"
   ]
  },
  {
   "cell_type": "code",
   "execution_count": null,
   "metadata": {},
   "outputs": [],
   "source": [
    "z = trainset[0]"
   ]
  },
  {
   "cell_type": "code",
   "execution_count": null,
   "metadata": {},
   "outputs": [],
   "source": [
    "os.path.isfile('/home/ra1/Project/Data/Database/PolyU/S1/Mask_Norm_2/00077/L/00077_3_L_12.bmp')"
   ]
  },
  {
   "cell_type": "code",
   "execution_count": null,
   "metadata": {},
   "outputs": [],
   "source": [
    "import numpy as np\n",
    "from PIL import Image\n",
    "import matplotlib.pyplot as plt\n",
    "%matplotlib inline\n"
   ]
  },
  {
   "cell_type": "code",
   "execution_count": null,
   "metadata": {},
   "outputs": [],
   "source": [
    "feats = np.load('feat.npy')\n",
    "masks = np.load('mask.npy')"
   ]
  },
  {
   "cell_type": "code",
   "execution_count": null,
   "metadata": {},
   "outputs": [],
   "source": [
    "feats.shape"
   ]
  },
  {
   "cell_type": "code",
   "execution_count": null,
   "metadata": {},
   "outputs": [],
   "source": [
    "im = feats[0].squeeze()\n",
    "mask = masks[200].squeeze()"
   ]
  },
  {
   "cell_type": "code",
   "execution_count": null,
   "metadata": {},
   "outputs": [],
   "source": [
    "plt.imshow(mask)"
   ]
  },
  {
   "cell_type": "code",
   "execution_count": null,
   "metadata": {},
   "outputs": [],
   "source": [
    "with open('Train_Test_List/train_qfire_1s_2.txt', 'r') as f:\n",
    "    lines = f.readlines()\n",
    "    with open('Train_Test_List/train_qfire_1s_3.txt', 'w') as f2:\n",
    "        for line in lines:\n",
    "            line = line.replace('Mask_Norm', 'Mask_Norm_3')\n",
    "            line = line.replace('Norm_En', 'Norm_En_2')\n",
    "            f2.write(line)"
   ]
  },
  {
   "cell_type": "code",
   "execution_count": null,
   "metadata": {},
   "outputs": [],
   "source": [
    "import shutil\n",
    "with open('Train_Test_List/match_casia_1s.txt', 'r') as f:\n",
    "    count = 0\n",
    "    lines = f.readlines()\n",
    "    for line in lines:\n",
    "        if not os.path.isfile(os.path.join('../Database/CASIA/Norm_En_2', line.split()[0])):\n",
    "            print(line)\n",
    "            shutil.copyfile(os.path.join('../Database/CASIA/Norm_En', line.split()[0]), os.path.join('../Database/CASIA/Norm_En_2', line.split()[0]))\n",
    "            shutil.copyfile(os.path.join('../Database/CASIA/Mask_Norm', line.split()[0]), os.path.join('../Database/CASIA/Mask_Norm_3', line.split()[0]))\n",
    "\n",
    "            count += 1\n",
    "\n",
    "    print(count)"
   ]
  },
  {
   "cell_type": "code",
   "execution_count": 3,
   "metadata": {},
   "outputs": [],
   "source": [
    "with open(\"Train_Test_List/match_polyu_2s_probe.txt\", \"r\") as f:\n",
    "    lines = f.readlines()\n",
    "    with open(\"Train_Test_List/match_polyu_2s_probe_2.txt\", \"a\") as f2:\n",
    "        for line in lines:\n",
    "            f2.write(line.replace('S1', 'S2'))   "
   ]
  },
  {
   "cell_type": "code",
   "execution_count": 1,
   "metadata": {},
   "outputs": [],
   "source": [
    "with open('Train_Test_List/match_polyu_2s_gallery.txt', 'r') as f:\n",
    "    lines = f.readlines()\n",
    "with open('Train_Test_List/match_polyu_2s_gallery.txt', 'w') as f:\n",
    "    for line in lines:\n",
    "        imname, _ = line.strip().split()\n",
    "        sid = imname.split('/')[2]\n",
    "        lr = imname.split('/')[3]\n",
    "        label = int(sid) if lr == \"L\" else -int(sid)-1\n",
    "        f.write(f\"{imname} {label}\\n\")\n"
   ]
  },
  {
   "cell_type": "code",
   "execution_count": null,
   "metadata": {},
   "outputs": [],
   "source": []
  }
 ],
 "metadata": {
  "kernelspec": {
   "display_name": "Python 3.7.11 ('solo')",
   "language": "python",
   "name": "python3"
  },
  "language_info": {
   "codemirror_mode": {
    "name": "ipython",
    "version": 3
   },
   "file_extension": ".py",
   "mimetype": "text/x-python",
   "name": "python",
   "nbconvert_exporter": "python",
   "pygments_lexer": "ipython3",
   "version": "3.7.11"
  },
  "orig_nbformat": 4,
  "vscode": {
   "interpreter": {
    "hash": "4a74314160f2cbd2793fa174ed1f10df3cb826c41efd3ec27c2835993486eb37"
   }
  }
 },
 "nbformat": 4,
 "nbformat_minor": 2
}
